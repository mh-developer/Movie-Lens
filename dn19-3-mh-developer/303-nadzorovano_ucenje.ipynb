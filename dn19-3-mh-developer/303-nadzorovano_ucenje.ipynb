{
 "cells": [
  {
   "cell_type": "markdown",
   "metadata": {
    "lang": "sl"
   },
   "source": [
    "## Napovedovanje vrednosti\n",
    "\n",
    "Podatkovno rudarjenje, naloga, `10. 5. 2019`  \n",
    "**`Mitja Hrovatič`**"
   ]
  },
  {
   "cell_type": "markdown",
   "metadata": {
    "lang": "en"
   },
   "source": [
    "## Predicting values\n",
    "\n",
    "Data mining, assignment, `<INSERT DATE>`  \n",
    "**`<INSERT Name and surname>`**"
   ]
  },
  {
   "cell_type": "markdown",
   "metadata": {
    "lang": "sl"
   },
   "source": [
    "Spoznali bomo praktično uporabo enostavnih metod nadzorovanega modeliranja oz.\n",
    "napovedovanja.  Skupna lastnost vseh omenjenih metod je, da s pomočjo\n",
    "naključnih spremenljivk (atributov) modelirajo vrednosti posebne spremenljivke,\n",
    "ki ji pravimo *razred* (v kontekstu uvrščanja v razrede, klasifikacije)\n",
    "ali *odziv* (v kontekstu regresije). Osnovne razlike med kontekstoma smo\n",
    "spoznali na predavanjih in vajah.\n",
    "\n",
    "Praktična cilja, ki ju bomo zasledovali sta:\n",
    "* modeliranje ocen posameznega uporabnika (odziva) s pomočjo vseh ostalih uporabnikov,\n",
    "* primerjava metod nadzorovanega modeliranja."
   ]
  },
  {
   "cell_type": "markdown",
   "metadata": {
    "lang": "en"
   },
   "source": [
    "We will get to know the practical use of simple methods of supervised modeling or forecasting. The common property of all of these methods is that with the help of random variables (attributes) they model the values of a specific variable,\n",
    "which we call *class* (in the context of classifying, classifying)\n",
    "or *response* (in the context of regression). We learnt about the basic differences between contexts in lectures and tutorials.\n",
    "\n",
    "The practical goals we will pursue are:\n",
    "* modeling of individual user's responses (responses) with the help of all other users,\n",
    "* Comparison of supervised modeling methods."
   ]
  },
  {
   "cell_type": "markdown",
   "metadata": {
    "lang": "sl"
   },
   "source": [
    "### Podatki\n",
    "\n",
    "Opis podatkovne zbirke MovieLens 1996-2016 ostaja enak prvi nalogi."
   ]
  },
  {
   "cell_type": "code",
   "execution_count": 1,
   "metadata": {},
   "outputs": [],
   "source": [
    "from csv import DictReader\n",
    "from datetime import datetime\n",
    "import numpy as np\n",
    "from scipy.stats import multivariate_normal as mvn \n",
    "import math\n",
    "from operator import itemgetter, attrgetter\n",
    "import itertools\n",
    "from scipy.stats import beta\n",
    "import pandas as pd\n",
    "\n",
    "%matplotlib inline\n",
    "%config InlineBackend.figure_formats = ['jpg']\n",
    "import matplotlib\n",
    "matplotlib.figure.Figure.__repr__ = lambda self: (\n",
    "    f\"<{self.__class__.__name__} size {self.bbox.size[0]:g}\"\n",
    "    f\"x{self.bbox.size[1]:g} with {len(self.axes)} Axes>\")\n",
    "\n",
    "import matplotlib.image as mpimg\n",
    "import matplotlib.pyplot as plt\n",
    "plt.style.use('PR.mplstyle')\n",
    "\n",
    "\n",
    "# Shranjeni podatki\n",
    "movies = {}\n",
    "zanr = {}\n",
    "cast = {}\n",
    "ratings_movie = {}\n",
    "ratings_user = {}\n",
    "tags = []\n",
    "links = []\n",
    "actors = {}\n",
    "users = {}\n",
    "\n",
    "\n",
    "\n",
    "with open('podatki/ml-latest-small/movies.csv', 'rt', encoding='utf-8') as data:\n",
    "    for row in DictReader(data):\n",
    "        movies[row['movieId']] = row\n",
    "        for genre in row['genres'].split('|'):\n",
    "            if genre not in zanr:\n",
    "                zanr[genre] = [genre]\n",
    "            else:\n",
    "                zanr[genre] += [genre]\n",
    "        \n",
    "with open('podatki/ml-latest-small/ratings.csv', 'rt', encoding=\"utf-8\") as data:\n",
    "    for row in DictReader(data):\n",
    "        if row['movieId'] not in ratings_movie:\n",
    "            ratings_movie[row['movieId']] = []\n",
    "        ratings_movie[row['movieId']].append([float(row['rating']), int(row['timestamp'])])\n",
    "        \n",
    "        if row['movieId'] not in ratings_user:\n",
    "            ratings_user[row['movieId']] = []\n",
    "        ratings_user[row['movieId']].append([int(row['userId']), float(row['rating'])])\n",
    "        \n",
    "        if row['userId'] not in users:\n",
    "            users[row['userId']] = []\n",
    "        users[row['userId']].append([float(row['rating']), row['movieId']])\n",
    "        \n",
    "    for key, value in ratings_movie.items():\n",
    "        ratings_movie[key] = np.array(value)\n",
    "    \n",
    "    for key, value in ratings_user.items():\n",
    "        ratings_user[key] = np.array(value)\n",
    "    \n",
    "    for key, value in users.items():\n",
    "        users[key] = np.array(value)\n",
    "        \n",
    "    \n",
    "        \n",
    "with open('podatki/ml-latest-small/cast.csv', 'rt', encoding=\"utf-8\") as data:\n",
    "    for row in DictReader(data):\n",
    "        cast[row['movieId']] = row['cast'].split(\"|\")\n",
    "        \n",
    "    for key, value in cast.items():\n",
    "        for actor in value:\n",
    "            if actor not in actors:\n",
    "                actors[actor] = []\n",
    "            actors[actor] += [key]\n",
    "        \n",
    "with open('podatki/ml-latest-small/tags.csv', 'rt', encoding=\"utf-8\") as data:\n",
    "    for row in DictReader(data):\n",
    "        tags.append(row)\n",
    "        \n",
    "with open('podatki/ml-latest-small/links.csv', 'rt', encoding=\"utf-8\") as data:\n",
    "    for row in DictReader(data):\n",
    "        links.append(row)"
   ]
  },
  {
   "cell_type": "markdown",
   "metadata": {
    "lang": "en"
   },
   "source": [
    "### Data\n",
    "\n",
    "The description of the MovieLens database remains the same as for the first homework."
   ]
  },
  {
   "cell_type": "markdown",
   "metadata": {
    "lang": "sl"
   },
   "source": [
    "### Predpriprava podatkov\n",
    "\n",
    "Za potrebe te naloge bomo podatke pripravili na naslednji način:\n",
    "1. Izberi $m$ filmov z vsaj 100 ogledi.\n",
    "2. Izberi $n$ uporabnikov, ki si je ogledalo vsaj 100 filmov.\n",
    "3. Pripravi matriko $X$ velikosti $m \\times n$, kjer vrstice predstavljajo filme, stolpci pa uporabnike. Neznane vrednosti zamenjaj z $0$.\n",
    "\n",
    "Za vsakega od izbranih $n$ uporabnikov bo zgrajen regresijski model, \n",
    "katerega cilj bo napoved ocen za filme. "
   ]
  },
  {
   "cell_type": "markdown",
   "metadata": {
    "lang": "en"
   },
   "source": [
    "### Preparation of data\n",
    "\n",
    "For the purposes of this task we will prepare the data as follows:\n",
    "1. Select $m$ movies with at least 100 views.\n",
    "2. Select $n$ users who have watched at least 100 movies.\n",
    "3. Prepare matrix $X$ in the size of $m \\times n$, where the lines represent movies and columns represent users. Replace unknown values with $0$.\n",
    "\n",
    "For each of the selected $n$ users, a regression model will be built, which aims to predict film ratings."
   ]
  },
  {
   "cell_type": "markdown",
   "metadata": {},
   "source": [
    "<table>\n",
    "    <tr style=\"background-color: white;\">\n",
    "        <td style=\"border-right: 1px solid #000;\"></td>\n",
    "        <td></td>\n",
    "        <td style=\"border-right: 1px solid #000; border-left: 1px solid #000;\">$y^{(0)}$</td>\n",
    "        <td colspan=3 style=\"text-align:center;\">$X^{(0)}$</td>\n",
    "    </tr>\n",
    "    <tr style=\"border-bottom: 1px solid #000;\">\n",
    "        <td style=\"border-right: 1px solid #000;\"></td>\n",
    "        <td>Film/uporabnik</td>\n",
    "        <td style=\"border-right: 1px solid #000; border-left: 1px solid #000;\">$u_0$</td>\n",
    "        <td>$u_1$</td>\n",
    "        <td>$u_2$</td>\n",
    "        <td>$\\cdots$</td>\n",
    "    </tr>\n",
    "    <tr>\n",
    "        <td style=\"border-right: 1px solid #000;\">${f_1}$</td>\n",
    "        <td>Twelve Monkeys (a.k.a. 12 Monkeys) (1995)</td>\n",
    "        <td style=\"border-right: 1px solid #000; border-left: 1px solid #000;\">0</td>\n",
    "        <td>0</td>\n",
    "        <td>2.5</td>\n",
    "        <td>$\\cdots$</td>\n",
    "    </tr>\n",
    "    <tr>\n",
    "        <td style=\"border-right: 1px solid #000;\">${f_2}$</td>\n",
    "        <td>Dances with  Wolves (1990) </td>\n",
    "        <td style=\"border-right: 1px solid #000; border-left: 1px solid #000;\">4</td>\n",
    "        <td>0</td>\n",
    "        <td>0</td>\n",
    "        <td>$\\cdots$</td>\n",
    "    </tr>\n",
    "    <tr>\n",
    "        <td style=\"border-right: 1px solid #000;\">${f_3}$</td>\n",
    "        <td>Apollo 13 (1995)</td>\n",
    "        <td style=\"border-right: 1px solid #000; border-left: 1px solid #000;\">0</td>\n",
    "        <td>2</td>\n",
    "        <td>0</td>\n",
    "        <td>$\\cdots$</td>\n",
    "    </tr>\n",
    "    <tr>\n",
    "        <td style=\"border-right: 1px solid #000;\">${f_4}$</td>\n",
    "        <td>Sixth Sense, The (1999)</td><td style=\"border-right: 1px solid #000; border-left: 1px solid #000;\">3</td>\n",
    "        <td>0</td>\n",
    "        <td>4</td>\n",
    "        <td>$\\cdots$</td>\n",
    "    </tr>\n",
    "    <tr>\n",
    "        <td style=\"border-right: 1px solid #000;\">$\\cdots$</td>\n",
    "        <td>$\\cdots$</td>\n",
    "        <td style=\"border-right: 1px solid #000; border-left: 1px solid #000;\">$\\cdots$</td>\n",
    "        <td>$\\cdots$</td>\n",
    "        <td>$\\cdots$</td>\n",
    "        <td>$\\cdots$</td>\n",
    "    </tr>\n",
    "</table>\n",
    "\n",
    "<table>\n",
    "    <tr style=\"background-color: white;\">\n",
    "        <td style=\"border-right: 1px solid #000;\"></td>\n",
    "        <td></td>\n",
    "        <td style=\"border-right: 1px solid #000; border-left: 1px solid #000;\">$y^{(1)}$</td>\n",
    "        <td colspan=3 style=\"text-align:center;\">$X^{(1)}$</td>\n",
    "    </tr>\n",
    "    <tr style=\"border-bottom: 1px solid #000;\">\n",
    "        <td style=\"border-right: 1px solid #000;\"></td>\n",
    "        <td>Film/uporabnik</td>\n",
    "        <td style=\"border-right: 1px solid #000; border-left: 1px solid #000;\">$u_1$</td>\n",
    "        <td>$u_0$</td>\n",
    "        <td>$u_2$</td>\n",
    "        <td>$\\cdots$</td>\n",
    "    </tr>\n",
    "    <tr>\n",
    "        <td style=\"border-right: 1px solid #000;\">${f_1}$</td>\n",
    "        <td>Twelve Monkeys (a.k.a. 12 Monkeys) (1995)</td>\n",
    "        <td style=\"border-right: 1px solid #000; border-left: 1px solid #000;\">0</td>\n",
    "        <td>0</td>\n",
    "        <td>2.5</td>\n",
    "        <td>$\\cdots$</td>\n",
    "    </tr>\n",
    "    <tr>\n",
    "        <td style=\"border-right: 1px solid #000;\">${f_2}$</td>\n",
    "        <td>Dances with  Wolves (1990) </td>\n",
    "        <td style=\"border-right: 1px solid #000; border-left: 1px solid #000;\">0</td>\n",
    "        <td>4</td>\n",
    "        <td>0</td>\n",
    "        <td>$\\cdots$</td>\n",
    "    </tr>\n",
    "    <tr>\n",
    "        <td style=\"border-right: 1px solid #000;\">${f_3}$</td>\n",
    "        <td>Apollo 13 (1995)</td>\n",
    "        <td style=\"border-right: 1px solid #000; border-left: 1px solid #000;\">2</td>\n",
    "        <td>0</td>\n",
    "        <td>0</td>\n",
    "        <td>$\\cdots$</td>\n",
    "    </tr>\n",
    "    <tr>\n",
    "        <td style=\"border-right: 1px solid #000;\">${f_4}$</td>\n",
    "        <td>Sixth Sense, The (1999)</td><td style=\"border-right: 1px solid #000; border-left: 1px solid #000;\">0</td>\n",
    "        <td>3</td>\n",
    "        <td>4</td>\n",
    "        <td>$\\cdots$</td>\n",
    "    </tr>\n",
    "    <tr>\n",
    "        <td style=\"border-right: 1px solid #000;\">$\\cdots$</td>\n",
    "        <td>$\\cdots$</td>\n",
    "        <td style=\"border-right: 1px solid #000; border-left: 1px solid #000;\">$\\cdots$</td>\n",
    "        <td>$\\cdots$</td>\n",
    "        <td>$\\cdots$</td>\n",
    "        <td>$\\cdots$</td>\n",
    "    </tr>\n",
    "</table>"
   ]
  },
  {
   "cell_type": "markdown",
   "metadata": {
    "lang": "sl"
   },
   "source": [
    "Razdelitev podatkov za model uporabnika $u_0$ (zgoraj) in uporabnika $u_1$ (spodaj)."
   ]
  },
  {
   "cell_type": "markdown",
   "metadata": {
    "lang": "en"
   },
   "source": [
    "Data distribution for the model user $u_0$ (above) and the user $u_1$ (below)."
   ]
  },
  {
   "cell_type": "markdown",
   "metadata": {
    "lang": "sl"
   },
   "source": [
    "### Vprašanja\n",
    "\n",
    "<ol>\n",
    "<li>(100%) **Regresija**. Za vsakega od uporabnikov postavite regresijski model. Uporabite eno ali več metod za učenje regresijskih modelov (linearna regresija, Ridge, Lasso, itd.). <br>\n",
    "    Za vsakega od $n$ uporabnikov izberite ustrezni stolpec v matriki podatkov. Za uporabnika $i$ imamo torej\n",
    "    <ul>\n",
    "    <li> Vektor odziva $y^{(i)}$,</li>\n",
    "    <li> Matriko podatkov $X^{(i)}$, ki vsebuje vse stolpce *razen* $i$.</li>\n",
    "    </ul>\n",
    "    \n",
    "Za lažjo predstavo si oglej zgornji tabeli. Nekajkrat (npr. trikrat) ponovite postopek preverjanja s pomočjo učne in testne množice:\n",
    "\n",
    "<ol type=\"a\">\n",
    "    <li> Množico filmov, ki si jih je uporabnik ogledal, *naključno* razdelite v razmerju 75% (učna množica) in 25% (testna množica).</li>\n",
    "    <li> Naučite regresijski model na učni množici<br> (izberite ustrezne vrstice v $X$ in $y$).</li>\n",
    "    <li> Ovrednotite model na testni množici <br> (ponovno izberite ustrezne vrstice v $X$ in $y$).</li>\n",
    "</ol>\n",
    "Oceno vrednotenja nato delite s številom poizkusov, da dobite končno oceno.<br>\n",
    "\n",
    "Poročajte o uspešnosti vašega modela. Pri tem se osredotočite na naslednja vprašanja:\n",
    "<ul>\n",
    "    <li> Utemeljite ustrezno mero vrednotenja. Ali model dobro napoveduje ocene?\n",
    "    <li> Z izbrano mero ocenite modele za vseh $n$ uporabnikov.\n",
    "</ul>\n",
    "\n",
    "</li>\n",
    "\n",
    "\n",
    "<li>\n",
    "(Bonus 15%) Ustvarite novega uporabnika, ki predstavlja vaše ocene\n",
    "filmov. Ocenite nekaj filmov po lastnem okusu in preverite, kako modeli ocenijo neizbrane filme.\n",
    "Ali se vam zdijo napovedi primerne? \n",
    "</li>\n",
    "</ol>"
   ]
  },
  {
   "cell_type": "markdown",
   "metadata": {
    "lang": "en"
   },
   "source": [
    "### Questions\n",
    "\n",
    "<ol>\n",
    "<li> (100%) **Regression**. Set up a regression model for each user. Use one or more methods for learning regression models (linear regression, Ridge, Lasso, etc.). <br>\n",
    "    For each of the $n$ users, select the appropriate column in the data matrix. Therefore, fot the $i$ user we have\n",
    "    <ul>\n",
    "    <li> Response vector $y^{(i)}$, </li>\n",
    "    <li> Data matrix $X^{(i)}$ containing all columns *except* $i$.</li>\n",
    "    </ul>\n",
    "    \n",
    "For an easier understanding see the above tables. Repeat the test procedure several times (eg three times) with the help of the learning and test sets:\n",
    "\n",
    "    <ol type=\"a\">\n",
    "    <li> Divide the films that the user viewed *randomly* into 75% (learning set) and 25% (test set).</li>\n",
    "    <li> Learn the regression model on learning set<br>(select the appropriate rows in $X$ and $y$).</li>\n",
    "    <li> Evaluate the model on the test set <br> (select the appropriate rows in $X$ and $y$).</li>\n",
    "    </ol>\n",
    "Then divide the evaluation score with the number of experiments to get the final score.<br>\n",
    "\n",
    "Report on the performance of your model. Focus on the following questions:\n",
    "<ul>\n",
    "    <li> Justify an appropriate evaluation score. Does the predict the scores well?\n",
    "    <li> Rate the models for all $n$ users with the selected evaluation score.\n",
    "</ul>\n",
    "</li>\n",
    "\n",
    "<li>\n",
    "(Bonus 15%) Create a new user who represents your movie ratings. Rate some movies after your own taste and see how models evaluate non-selected movies. Do you find the predictions appropriate?\n",
    "</li>\n",
    "</ol>"
   ]
  },
  {
   "cell_type": "markdown",
   "metadata": {
    "lang": "sl"
   },
   "source": [
    "### Zapiski\n",
    "\n",
    "Implementacijo, opis in vrednotenje metod za nadzorovanjo učenje vsebujejo knjižnice `sklearn` ali `Orange`."
   ]
  },
  {
   "cell_type": "code",
   "execution_count": 2,
   "metadata": {},
   "outputs": [],
   "source": [
    "from sklearn.linear_model import LinearRegression, Lasso, Ridge\n",
    "from sklearn.metrics import mean_squared_error, mean_absolute_error, median_absolute_error, mean_squared_log_error\n",
    "from sklearn.model_selection import train_test_split\n",
    "from scipy.stats import pearsonr"
   ]
  },
  {
   "cell_type": "code",
   "execution_count": 3,
   "metadata": {
    "code_folding": [],
    "scrolled": false
   },
   "outputs": [
    {
     "name": "stdout",
     "output_type": "stream",
     "text": [
      "Število filmov: 151\n",
      "Število uporabnikov: 263\n",
      "Dimenzije matrike: (151, 263)\n",
      "Št. elementov: 39713\n"
     ]
    }
   ],
   "source": [
    "matrika_film_ocene = {}\n",
    "list_of_matrika_film_ocene = []\n",
    "# list_of_title_film = []\n",
    "\n",
    "for title, value in ratings_movie.items():\n",
    "    ocene_filma = value[:, 0]\n",
    "    n = len(ocene_filma)\n",
    "    if n >= 100:\n",
    "        if title not in matrika_film_ocene:\n",
    "            matrika_film_ocene[title] = []\n",
    "        for key, value in users.items():\n",
    "            if len(value) >= 100:\n",
    "                for user_rate, movie_of in value:\n",
    "                    if movie_of == title:\n",
    "                        matrika_film_ocene[title] += [float(user_rate)]\n",
    "                        break\n",
    "                else:\n",
    "                    matrika_film_ocene[title] += [np.mean(ocene_filma)]\n",
    "\n",
    "\n",
    "print(\"Število filmov:\", len(matrika_film_ocene))\n",
    "print(\"Število uporabnikov:\", len(matrika_film_ocene['10']))\n",
    "\n",
    "\n",
    "for key, value in matrika_film_ocene.items():\n",
    "    list_of_matrika_film_ocene.append(value)\n",
    "#     list_of_title_film.append(movies[key]['title'])\n",
    "#     list_of_title_film.append(float(key))\n",
    "\n",
    "\n",
    "list_of_matrika_film_ocene = np.array(list_of_matrika_film_ocene)\n",
    "\n",
    "print(\"Dimenzije matrike:\", list_of_matrika_film_ocene.shape)\n",
    "print(\"Št. elementov:\", list_of_matrika_film_ocene.size)"
   ]
  },
  {
   "cell_type": "code",
   "execution_count": 4,
   "metadata": {},
   "outputs": [],
   "source": [
    "vektor_odziva_uporabniki = []\n",
    "matrike_podatkov = []\n",
    "\n",
    "for i in range(len(list_of_matrika_film_ocene[0])):\n",
    "    vektor_odziva_uporabniki += [list_of_matrika_film_ocene[:, [i]]]\n",
    "    matrike_podatkov += [np.append(list_of_matrika_film_ocene[:, :i], list_of_matrika_film_ocene[:, i+1:], axis=1)]\n",
    "    \n",
    "# print(len(matrike_podatkov))\n",
    "# print(len(vektor_odziva_uporabniki))"
   ]
  },
  {
   "cell_type": "markdown",
   "metadata": {},
   "source": [
    "### Učenje regresijskih modelov"
   ]
  },
  {
   "cell_type": "code",
   "execution_count": 5,
   "metadata": {},
   "outputs": [],
   "source": [
    "def ucenje(model_of):\n",
    "    mse = []\n",
    "    mae = []\n",
    "#     meae = []\n",
    "\n",
    "    # Ucenje modela\n",
    "    for i in range(len(list_of_matrika_film_ocene[0])):\n",
    "        _mse = []\n",
    "        _mae = []\n",
    "        for j in range(3):\n",
    "            X_train, X_test, y_train, y_test = train_test_split(matrike_podatkov[i], vektor_odziva_uporabniki[i], test_size=0.25) # , random_state=42\n",
    "\n",
    "            x = X_train\n",
    "            y = y_train\n",
    "\n",
    "            model = model_of\n",
    "            model.fit(x, y)\n",
    "\n",
    "            # Napoved vrednosti za podatke\n",
    "            hx = model.predict(X_test)\n",
    "\n",
    "            _mse.append(mean_squared_error(y_test, hx))\n",
    "            _mae.append(mean_absolute_error(y_test, hx))\n",
    "    #         meae.append(median_absolute_error(y_test, hx))\n",
    "        mse.append(np.mean(_mse))\n",
    "        mae.append(np.mean(_mae))\n",
    "        \n",
    "\n",
    "    # print(model.intercept_,model.coef_)\n",
    "\n",
    "    print(\"MSE\", np.mean(mse))\n",
    "    print(\"MAE\", np.mean(mae))\n",
    "#     print(\"MEDIAN AE\", np.mean(meae))"
   ]
  },
  {
   "cell_type": "markdown",
   "metadata": {},
   "source": [
    "#### Linearna regresija"
   ]
  },
  {
   "cell_type": "code",
   "execution_count": 6,
   "metadata": {},
   "outputs": [
    {
     "name": "stdout",
     "output_type": "stream",
     "text": [
      "MSE 0.49741669859396787\n",
      "MAE 0.5033116619702638\n"
     ]
    }
   ],
   "source": [
    "# Linearna regresija\n",
    "\n",
    "ucenje(LinearRegression())"
   ]
  },
  {
   "cell_type": "markdown",
   "metadata": {},
   "source": [
    "#### Lasso regresija"
   ]
  },
  {
   "cell_type": "code",
   "execution_count": 7,
   "metadata": {},
   "outputs": [
    {
     "name": "stdout",
     "output_type": "stream",
     "text": [
      "MSE 0.32528645493587466\n",
      "MAE 0.3765138919030429\n"
     ]
    }
   ],
   "source": [
    "# Lasso regresija, izračun z merami za napake na vseh modelih, nato pa izpišem povprečje vseh modelov\n",
    "\n",
    "ucenje(Lasso(alpha=0.1))"
   ]
  },
  {
   "cell_type": "markdown",
   "metadata": {},
   "source": [
    "#### Ridge regresija"
   ]
  },
  {
   "cell_type": "code",
   "execution_count": 8,
   "metadata": {},
   "outputs": [
    {
     "name": "stdout",
     "output_type": "stream",
     "text": [
      "MSE 0.4942096157399291\n",
      "MAE 0.5035100473188479\n"
     ]
    }
   ],
   "source": [
    "# Ridge regresija\n",
    "\n",
    "ucenje(Ridge(alpha=0.1))"
   ]
  },
  {
   "cell_type": "markdown",
   "metadata": {
    "lang": "en"
   },
   "source": [
    "### Notes\n",
    "\n",
    "Implementation, description, and evaluation of supervised learning methods are included in libraries `skleaarn` or` Orange`."
   ]
  },
  {
   "cell_type": "markdown",
   "metadata": {},
   "source": [
    "### Odgovor\n",
    "**Uporabil sem tri metode za učenje regresijski modelov (linearna regresija, Ridge, Lasso). Ugotovil sem, da je najboljši model za napovedovanje, model Lasso, saj sem prišel do ugodovitve z merami za napake (MSE, MAE), da ima najmanjše napake.\n",
    "Model dobro napoveduje ocene, saj ima odstopanja pri MSE samo ~0.32 ocene.**"
   ]
  }
 ],
 "metadata": {
  "kernelspec": {
   "display_name": "Python 3",
   "language": "python",
   "name": "python3"
  },
  "language_info": {
   "codemirror_mode": {
    "name": "ipython",
    "version": 3
   },
   "file_extension": ".py",
   "mimetype": "text/x-python",
   "name": "python",
   "nbconvert_exporter": "python",
   "pygments_lexer": "ipython3",
   "version": "3.7.2"
  },
  "latex_envs": {
   "LaTeX_envs_menu_present": true,
   "autocomplete": true,
   "bibliofile": "biblio.bib",
   "cite_by": "apalike",
   "current_citInitial": 1,
   "eqLabelWithNumbers": true,
   "eqNumInitial": 1,
   "hotkeys": {
    "equation": "Ctrl-E",
    "itemize": "Ctrl-I"
   },
   "labels_anchors": false,
   "latex_user_defs": false,
   "report_style_numbering": false,
   "user_envs_cfg": false
  },
  "nbTranslate": {
   "displayLangs": [
    "sl"
   ],
   "hotkey": "alt-t",
   "langInMainMenu": true,
   "sourceLang": "sl",
   "targetLang": "en",
   "useGoogleTranslate": true
  }
 },
 "nbformat": 4,
 "nbformat_minor": 2
}
