{
 "cells": [
  {
   "cell_type": "markdown",
   "metadata": {
    "lang": "en"
   },
   "source": [
    "### Data mining, 1st homework, INSERT DATE\n",
    "\n",
    "# Preparation of data, basic statistics and visualization"
   ]
  },
  {
   "cell_type": "markdown",
   "metadata": {
    "lang": "en"
   },
   "source": [
    "**Name and surname** **INSERT !!!**"
   ]
  },
  {
   "cell_type": "markdown",
   "metadata": {
    "lang": "en"
   },
   "source": [
    "An inevitable part of every project in the field of data mining is searching,\n",
    "editing and preparing data. In this task, you will get acquainted with a data\n",
    "set and use procedures for converting data into the appropriate format and do overview and display of\n",
    "basic statistics.\n",
    "\n",
    "### Submit\n",
    "Write down the code and the answers in the cells below. Save this notebook in your home repository on *github*. Only submit a link to the notebook in your repository in the classroom, for example: \n",
    "https://github.com/PR-ULFRI/dn19-1-yourusername/n1_preparation_overview.\n",
    "\n",
    "For more detailed instructions, see the \"Homework\" section of the [online classroom](https://ucilnica.fri.uni-lj.si/course/view.php?id=37)."
   ]
  },
  {
   "cell_type": "markdown",
   "metadata": {
    "lang": "en"
   },
   "source": [
    "## Data\n",
    "\n",
    "In the task you will review and prepare Hollywood movie ratings from\n",
    "the collection [MovieLens](https://grouplens.org/datasets/movielens/) from the period **1995-2016**. The dataset is in the folder `/podatki/ml-latest-small`.\n",
    "\n",
    "You will use the same data in all your homework, so you should get to know the data well. This is a database for\n",
    "evaluating recommendations systems that include viewers and their ratings for a single film on a scale of 1 to 5.\n",
    "In addition to the basic user and rating matrix, it includes also additional movie information (eg genre, date, tags,\n",
    "players).\n",
    "\n",
    "The database contains the following files:\n",
    "\n",
    "* ratings.csv: user data and ratings,\n",
    "* movies.csv: movie genre information,\n",
    "* cast.csv: player information,\n",
    "* tags.csv: tag information (\\emph{tags}),\n",
    "* links.csv: links to related databases.\n",
    "\n",
    "\n",
    "Before starting to solve the task, take a good look at the data and the file **README.txt**. You can read the collection details on the [website](http://files.grouplens.org/datasets/movielens/ml-latest-small-README.html).\n",
    "\n",
    "Prepare methods for loading data into the appropriate data structures. They will come in handy\n",
    "also for further tasks.\n",
    "Pay attention to the size of the data."
   ]
  },
  {
   "cell_type": "markdown",
   "metadata": {
    "lang": "en"
   },
   "source": [
    "Write down the code to read the files and prepare the appropriate matrices (and other structures) of the data that you will use to answer the questions below.\n",
    "\n",
    "You can split the code into multiple cells."
   ]
  },
  {
   "cell_type": "code",
   "execution_count": null,
   "metadata": {
    "collapsed": true
   },
   "outputs": [],
   "source": []
  },
  {
   "cell_type": "markdown",
   "metadata": {
    "lang": "en"
   },
   "source": [
    "## Questions\n",
    "\n",
    "The main purpose of data mining is *knowledge discovery from data*,\n",
    "ie answering questions using mathematical procedures.\n",
    "\n",
    "By using the principles you have learned on the exercises and lectures, answer\n",
    "the questions below. For each question, think carefully about the way you will\n",
    "best give, show or justify the answer. The essential part is the answers to\n",
    "questions rather than implementing your solution."
   ]
  },
  {
   "cell_type": "markdown",
   "metadata": {
    "lang": "en"
   },
   "source": [
    "### Question 1 (15%):\n",
    "Which movies are the best on average? Prepare a list of\n",
    "movies and their average ratings and print 10 movies from the top of the list.\n",
    "Do you see any problems with such an assessment? How could you solve it? What are they?\n",
    "results of that?\n",
    "\n",
    "You can split the code into multiple cells."
   ]
  },
  {
   "cell_type": "code",
   "execution_count": null,
   "metadata": {
    "collapsed": true
   },
   "outputs": [],
   "source": []
  },
  {
   "cell_type": "markdown",
   "metadata": {
    "lang": "en"
   },
   "source": [
    "Answer: **write down the answer**"
   ]
  },
  {
   "cell_type": "markdown",
   "metadata": {
    "lang": "en"
   },
   "source": [
    "### Question 2 (15%):\n",
    "Each film belongs to one or more genres.\n",
    "How many genres are there? Show the distribution of genres using appropriate\n",
    "visualization.\n",
    "\n",
    "You can split the code into multiple cells."
   ]
  },
  {
   "cell_type": "code",
   "execution_count": null,
   "metadata": {
    "collapsed": true
   },
   "outputs": [],
   "source": []
  },
  {
   "cell_type": "markdown",
   "metadata": {
    "lang": "en"
   },
   "source": [
    "Answer: **write down the answer**"
   ]
  },
  {
   "cell_type": "markdown",
   "metadata": {
    "lang": "en"
   },
   "source": [
    "### Question 3 (20%):\n",
    "The number of ratings is different for each film. But\n",
    "Is there a relationship between ratings and the average movie rating? Describe the procedure that\n",
    "you used to answer the question.\n",
    "\n",
    "You can split the code into multiple cells."
   ]
  },
  {
   "cell_type": "code",
   "execution_count": null,
   "metadata": {
    "collapsed": true
   },
   "outputs": [],
   "source": []
  },
  {
   "cell_type": "markdown",
   "metadata": {
    "lang": "en"
   },
   "source": [
    "Answer: **write down the answer**"
   ]
  },
  {
   "cell_type": "markdown",
   "metadata": {
    "lang": "en"
   },
   "source": [
    "### Question 4 (30%):\n",
    "Each rating was entered on a specific date (column\n",
    "*timestamp*). Does the popularity of individual films change over time?\n",
    "Solve the problem by allocating ratings for a given film by time and at any time\n",
    "point calculate the average for the last 30, 50, or 100 ratings. Draw a graph, how \n",
    "the rating changes and show it for two interesting examples of movies.\n",
    "\n",
    "You can split the code into multiple cells."
   ]
  },
  {
   "cell_type": "code",
   "execution_count": null,
   "metadata": {
    "collapsed": true
   },
   "outputs": [],
   "source": []
  },
  {
   "cell_type": "markdown",
   "metadata": {
    "lang": "en"
   },
   "source": [
    "Answer: **write down the answer**"
   ]
  },
  {
   "cell_type": "markdown",
   "metadata": {
    "lang": "en"
   },
   "source": [
    "### Question 5 (20%):\n",
    "How would you rate the popularity of individual actors? Describe the procedure\n",
    " for evaluating and print the 10 most popular actors.\n",
    "\n",
    "You can split the code into multiple cells."
   ]
  },
  {
   "cell_type": "code",
   "execution_count": null,
   "metadata": {
    "collapsed": true
   },
   "outputs": [],
   "source": []
  },
  {
   "cell_type": "markdown",
   "metadata": {
    "lang": "en"
   },
   "source": [
    "Answer: **write down the answer**"
   ]
  },
  {
   "cell_type": "markdown",
   "metadata": {
    "lang": "en"
   },
   "source": [
    "### bonus question (5%):\n",
    "\n",
    "What's your favorite movie? Why?"
   ]
  },
  {
   "cell_type": "markdown",
   "metadata": {
    "lang": "en"
   },
   "source": [
    "Answer: **write down the answer**"
   ]
  },
  {
   "cell_type": "markdown",
   "metadata": {},
   "source": []
  },
  {
   "cell_type": "markdown",
   "metadata": {
    "lang": "en"
   },
   "source": [
    "## Notes\n",
    "You can use the built-in `csv` module to load data. The `ml-latest-small` data folder must in this case be located in the same folder as the notebook."
   ]
  },
  {
   "cell_type": "code",
   "execution_count": 1,
   "metadata": {
    "collapsed": true
   },
   "outputs": [],
   "source": [
    "from csv import DictReader\n",
    "\n",
    "reader = DictReader(open('podatki/ml-latest-small/ratings.csv', 'rt', encoding='utf-8'))\n",
    "for row in reader:\n",
    "    user = row[\"userId\"]\n",
    "    movie = row[\"movieId\"]\n",
    "    rating = row[\"rating\"]\n",
    "    timestamp = row[\"timestamp\"]"
   ]
  },
  {
   "cell_type": "markdown",
   "metadata": {
    "lang": "en"
   },
   "source": [
    "Data in the last line of the file:"
   ]
  },
  {
   "cell_type": "code",
   "execution_count": 2,
   "metadata": {},
   "outputs": [
    {
     "data": {
      "text/plain": [
       "('671', '6565', '3.5', '1074784724')"
      ]
     },
     "execution_count": 2,
     "metadata": {},
     "output_type": "execute_result"
    }
   ],
   "source": [
    "user, movie, rating, timestamp"
   ]
  },
  {
   "cell_type": "markdown",
   "metadata": {
    "lang": "en"
   },
   "source": [
    "Convert the time format (*Unix time*). Code about the structure is listed in documentation of the module  [`datetime`](https://docs.python.org/3/library/datetime.html#strftime-and-strptime-behavior)."
   ]
  },
  {
   "cell_type": "code",
   "execution_count": 3,
   "metadata": {},
   "outputs": [
    {
     "data": {
      "text/plain": [
       "'2008-08-05 02:56'"
      ]
     },
     "execution_count": 3,
     "metadata": {},
     "output_type": "execute_result"
    }
   ],
   "source": [
    "from datetime import datetime\n",
    "\n",
    "t = 1217897793 # Unix-time\n",
    "ts = datetime.fromtimestamp(t).strftime('%Y-%m-%d %H:%M')\n",
    "ts"
   ]
  }
 ],
 "metadata": {
  "kernelspec": {
   "display_name": "Python 3",
   "language": "python",
   "name": "python3"
  },
  "language_info": {
   "codemirror_mode": {
    "name": "ipython",
    "version": 3
   },
   "file_extension": ".py",
   "mimetype": "text/x-python",
   "name": "python",
   "nbconvert_exporter": "python",
   "pygments_lexer": "ipython3",
   "version": "3.6.3"
  },
  "latex_envs": {
   "LaTeX_envs_menu_present": true,
   "autocomplete": true,
   "bibliofile": "biblio.bib",
   "cite_by": "apalike",
   "current_citInitial": 1,
   "eqLabelWithNumbers": true,
   "eqNumInitial": 1,
   "hotkeys": {
    "equation": "Ctrl-E",
    "itemize": "Ctrl-I"
   },
   "labels_anchors": false,
   "latex_user_defs": false,
   "report_style_numbering": false,
   "user_envs_cfg": false
  },
  "nbTranslate": {
   "displayLangs": [
    "*"
   ],
   "hotkey": "alt-t",
   "langInMainMenu": true,
   "sourceLang": "sl",
   "targetLang": "en",
   "useGoogleTranslate": true
  }
 },
 "nbformat": 4,
 "nbformat_minor": 2
}
